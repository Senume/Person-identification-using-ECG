{
 "cells": [
  {
   "cell_type": "code",
   "execution_count": 1,
   "metadata": {},
   "outputs": [],
   "source": [
    "import wfdb as wf\n",
    "from wfdb import processing\n",
    "\n",
    "import neurokit2 as ECG\n",
    "import librosa as mi\n",
    "\n",
    "\n",
    "import matplotlib.pyplot as plt\n",
    "from scipy import signal\n",
    "from scipy.fft import fft, ifft\n",
    "import numpy as np\n",
    "import os"
   ]
  },
  {
   "cell_type": "code",
   "execution_count": null,
   "metadata": {},
   "outputs": [],
   "source": [
    "def Feature_CC(segment):\n",
    "    try:\n",
    "        win = signal.windows.hamming(len(segment))\n",
    "        win_segment = np.multiply(segment, win)\n",
    "\n",
    "        fft_c = fft(win_segment,len(win_segment))\n",
    "        log_fft_c = np.log(np.abs(fft_c))\n",
    "        cc= ifft(log_fft_c)\n",
    "\n",
    "        return np.real(cc[:12])\n",
    "    except IndexError:\n",
    "        print(\"Index_error\")\n",
    "\n",
    "def Feature_Entropy(segment):\n",
    "\n",
    "\n",
    "    counts, _ = np.histogram(segment, bins=5)\n",
    "    P_x = counts/sum(counts)\n",
    "\n",
    "    entropy = sum(np.multiply(P_x,np.log2(P_x)))\n",
    "\n",
    "    return entropy\n",
    "        \n",
    "\n",
    "\n",
    "def Feature_ZCR(segment):\n",
    "    return np.sum(mi.zero_crossings(segment).astype(float))\n",
    "\n",
    "def ConvertArray2String(B):\n",
    "    Feature = \"\"\n",
    "    for i in B:\n",
    "        Feature = Feature + ',' +str(i)\n",
    "    return Feature\n"
   ]
  },
  {
   "cell_type": "code",
   "execution_count": null,
   "metadata": {},
   "outputs": [],
   "source": [
    "os.chdir('..')\n",
    "dir = os.getcwd()"
   ]
  },
  {
   "cell_type": "code",
   "execution_count": null,
   "metadata": {},
   "outputs": [
    {
     "name": "stdout",
     "output_type": "stream",
     "text": [
      "['Records_2', 'Records_1']\n",
      "Records_2\n",
      "x_123.dat\n",
      "Skipping a segment\n",
      "x_222.dat\n"
     ]
    },
    {
     "name": "stderr",
     "output_type": "stream",
     "text": [
      "/tmp/ipykernel_2425/427523320.py:20: RuntimeWarning: divide by zero encountered in log2\n",
      "  entropy = sum(np.multiply(P_x,np.log2(P_x)))\n",
      "/tmp/ipykernel_2425/427523320.py:20: RuntimeWarning: invalid value encountered in multiply\n",
      "  entropy = sum(np.multiply(P_x,np.log2(P_x)))\n"
     ]
    },
    {
     "name": "stdout",
     "output_type": "stream",
     "text": [
      "x_233.dat\n",
      "x_114.dat\n",
      "x_231.dat\n"
     ]
    },
    {
     "name": "stderr",
     "output_type": "stream",
     "text": [
      "/tmp/ipykernel_2425/427523320.py:20: RuntimeWarning: divide by zero encountered in log2\n",
      "  entropy = sum(np.multiply(P_x,np.log2(P_x)))\n",
      "/tmp/ipykernel_2425/427523320.py:20: RuntimeWarning: invalid value encountered in multiply\n",
      "  entropy = sum(np.multiply(P_x,np.log2(P_x)))\n"
     ]
    },
    {
     "name": "stdout",
     "output_type": "stream",
     "text": [
      "x_230.dat\n",
      "x_122.dat\n",
      "x_232.dat\n"
     ]
    },
    {
     "name": "stderr",
     "output_type": "stream",
     "text": [
      "/tmp/ipykernel_2425/427523320.py:20: RuntimeWarning: divide by zero encountered in log2\n",
      "  entropy = sum(np.multiply(P_x,np.log2(P_x)))\n",
      "/tmp/ipykernel_2425/427523320.py:20: RuntimeWarning: invalid value encountered in multiply\n",
      "  entropy = sum(np.multiply(P_x,np.log2(P_x)))\n"
     ]
    },
    {
     "name": "stdout",
     "output_type": "stream",
     "text": [
      "x_111.dat\n",
      "x_223.dat\n"
     ]
    },
    {
     "ename": "KeyboardInterrupt",
     "evalue": "",
     "output_type": "error",
     "traceback": [
      "\u001b[0;31m---------------------------------------------------------------------------\u001b[0m",
      "\u001b[0;31mKeyboardInterrupt\u001b[0m                         Traceback (most recent call last)",
      "Cell \u001b[0;32mIn[5], line 32\u001b[0m\n\u001b[1;32m     30\u001b[0m \u001b[39mtry\u001b[39;00m:\n\u001b[1;32m     31\u001b[0m     _, rpeaks \u001b[39m=\u001b[39m ECG\u001b[39m.\u001b[39mecg_peaks(filtered, sampling_rate\u001b[39m=\u001b[39mfields[\u001b[39m'\u001b[39m\u001b[39mfs\u001b[39m\u001b[39m'\u001b[39m])\n\u001b[0;32m---> 32\u001b[0m     _, waves_peak \u001b[39m=\u001b[39m ECG\u001b[39m.\u001b[39;49mecg_delineate(filtered, rpeaks, sampling_rate\u001b[39m=\u001b[39;49m\u001b[39m1000\u001b[39;49m, method\u001b[39m=\u001b[39;49m\u001b[39m\"\u001b[39;49m\u001b[39mpeak\u001b[39;49m\u001b[39m\"\u001b[39;49m)\n\u001b[1;32m     33\u001b[0m     t_peaks_ind \u001b[39m=\u001b[39m waves_peak[\u001b[39m'\u001b[39m\u001b[39mECG_T_Peaks\u001b[39m\u001b[39m'\u001b[39m]\n\u001b[1;32m     34\u001b[0m \u001b[39mexcept\u001b[39;00m \u001b[39mIndexError\u001b[39;00m:\n",
      "File \u001b[0;32m~/anaconda3/envs/sip-person_identification/lib/python3.8/site-packages/neurokit2/ecg/ecg_delineate.py:143\u001b[0m, in \u001b[0;36mecg_delineate\u001b[0;34m(ecg_cleaned, rpeaks, sampling_rate, method, show, show_type, check, **kwargs)\u001b[0m\n\u001b[1;32m    141\u001b[0m method \u001b[39m=\u001b[39m method\u001b[39m.\u001b[39mlower()  \u001b[39m# remove capitalised letters\u001b[39;00m\n\u001b[1;32m    142\u001b[0m \u001b[39mif\u001b[39;00m method \u001b[39min\u001b[39;00m [\u001b[39m\"\u001b[39m\u001b[39mpeak\u001b[39m\u001b[39m\"\u001b[39m, \u001b[39m\"\u001b[39m\u001b[39mpeaks\u001b[39m\u001b[39m\"\u001b[39m, \u001b[39m\"\u001b[39m\u001b[39mderivative\u001b[39m\u001b[39m\"\u001b[39m, \u001b[39m\"\u001b[39m\u001b[39mgradient\u001b[39m\u001b[39m\"\u001b[39m]:\n\u001b[0;32m--> 143\u001b[0m     waves \u001b[39m=\u001b[39m _ecg_delineator_peak(ecg_cleaned, rpeaks\u001b[39m=\u001b[39;49mrpeaks, sampling_rate\u001b[39m=\u001b[39;49msampling_rate)\n\u001b[1;32m    144\u001b[0m \u001b[39melif\u001b[39;00m method \u001b[39min\u001b[39;00m [\u001b[39m\"\u001b[39m\u001b[39mcwt\u001b[39m\u001b[39m\"\u001b[39m, \u001b[39m\"\u001b[39m\u001b[39mcontinuous wavelet transform\u001b[39m\u001b[39m\"\u001b[39m]:\n\u001b[1;32m    145\u001b[0m     waves \u001b[39m=\u001b[39m _ecg_delineator_cwt(ecg_cleaned, rpeaks\u001b[39m=\u001b[39mrpeaks, sampling_rate\u001b[39m=\u001b[39msampling_rate)\n",
      "File \u001b[0;32m~/anaconda3/envs/sip-person_identification/lib/python3.8/site-packages/neurokit2/ecg/ecg_delineate.py:832\u001b[0m, in \u001b[0;36m_ecg_delineator_peak\u001b[0;34m(ecg, rpeaks, sampling_rate)\u001b[0m\n\u001b[1;32m    829\u001b[0m Q_list\u001b[39m.\u001b[39mappend(Q_index)\n\u001b[1;32m    831\u001b[0m \u001b[39m# P wave\u001b[39;00m\n\u001b[0;32m--> 832\u001b[0m P_index, P \u001b[39m=\u001b[39m _ecg_delineator_peak_P(rpeak, heartbeat, R, Q)\n\u001b[1;32m    833\u001b[0m P_list\u001b[39m.\u001b[39mappend(P_index)\n\u001b[1;32m    835\u001b[0m \u001b[39m# S wave\u001b[39;00m\n",
      "File \u001b[0;32m~/anaconda3/envs/sip-person_identification/lib/python3.8/site-packages/neurokit2/ecg/ecg_delineate.py:888\u001b[0m, in \u001b[0;36m_ecg_delineator_peak_P\u001b[0;34m(rpeak, heartbeat, R, Q)\u001b[0m\n\u001b[1;32m    885\u001b[0m     \u001b[39mreturn\u001b[39;00m np\u001b[39m.\u001b[39mnan, \u001b[39mNone\u001b[39;00m\n\u001b[1;32m    887\u001b[0m segment \u001b[39m=\u001b[39m heartbeat\u001b[39m.\u001b[39miloc[:Q]  \u001b[39m# Select left of Q wave\u001b[39;00m\n\u001b[0;32m--> 888\u001b[0m P \u001b[39m=\u001b[39m signal_findpeaks(segment[\u001b[39m\"\u001b[39;49m\u001b[39mSignal\u001b[39;49m\u001b[39m\"\u001b[39;49m], height_min\u001b[39m=\u001b[39;49m\u001b[39m0.05\u001b[39;49m \u001b[39m*\u001b[39;49m (segment[\u001b[39m\"\u001b[39;49m\u001b[39mSignal\u001b[39;49m\u001b[39m\"\u001b[39;49m]\u001b[39m.\u001b[39;49mmax() \u001b[39m-\u001b[39;49m segment[\u001b[39m\"\u001b[39;49m\u001b[39mSignal\u001b[39;49m\u001b[39m\"\u001b[39;49m]\u001b[39m.\u001b[39;49mmin()))\n\u001b[1;32m    890\u001b[0m \u001b[39mif\u001b[39;00m \u001b[39mlen\u001b[39m(P[\u001b[39m\"\u001b[39m\u001b[39mPeaks\u001b[39m\u001b[39m\"\u001b[39m]) \u001b[39m==\u001b[39m \u001b[39m0\u001b[39m:\n\u001b[1;32m    891\u001b[0m     \u001b[39mreturn\u001b[39;00m np\u001b[39m.\u001b[39mnan, \u001b[39mNone\u001b[39;00m\n",
      "File \u001b[0;32m~/anaconda3/envs/sip-person_identification/lib/python3.8/site-packages/neurokit2/signal/signal_findpeaks.py:132\u001b[0m, in \u001b[0;36msignal_findpeaks\u001b[0;34m(signal, height_min, height_max, relative_height_min, relative_height_max, relative_mean, relative_median, relative_max)\u001b[0m\n\u001b[1;32m    130\u001b[0m \u001b[39m# Filter\u001b[39;00m\n\u001b[1;32m    131\u001b[0m info[\u001b[39m\"\u001b[39m\u001b[39mDistance\u001b[39m\u001b[39m\"\u001b[39m] \u001b[39m=\u001b[39m _signal_findpeaks_distances(info[\u001b[39m\"\u001b[39m\u001b[39mPeaks\u001b[39m\u001b[39m\"\u001b[39m])\n\u001b[0;32m--> 132\u001b[0m info[\u001b[39m\"\u001b[39m\u001b[39mOnsets\u001b[39m\u001b[39m\"\u001b[39m] \u001b[39m=\u001b[39m _signal_findpeaks_findbase(info[\u001b[39m\"\u001b[39;49m\u001b[39mPeaks\u001b[39;49m\u001b[39m\"\u001b[39;49m], signal, what\u001b[39m=\u001b[39;49m\u001b[39m\"\u001b[39;49m\u001b[39monset\u001b[39;49m\u001b[39m\"\u001b[39;49m)\n\u001b[1;32m    133\u001b[0m info[\u001b[39m\"\u001b[39m\u001b[39mOffsets\u001b[39m\u001b[39m\"\u001b[39m] \u001b[39m=\u001b[39m _signal_findpeaks_findbase(info[\u001b[39m\"\u001b[39m\u001b[39mPeaks\u001b[39m\u001b[39m\"\u001b[39m], signal, what\u001b[39m=\u001b[39m\u001b[39m\"\u001b[39m\u001b[39moffset\u001b[39m\u001b[39m\"\u001b[39m)\n\u001b[1;32m    135\u001b[0m \u001b[39mreturn\u001b[39;00m info\n",
      "File \u001b[0;32m~/anaconda3/envs/sip-person_identification/lib/python3.8/site-packages/neurokit2/signal/signal_findpeaks.py:228\u001b[0m, in \u001b[0;36m_signal_findpeaks_findbase\u001b[0;34m(peaks, signal, what)\u001b[0m\n\u001b[1;32m    224\u001b[0m     direction \u001b[39m=\u001b[39m \u001b[39m\"\u001b[39m\u001b[39mgreater\u001b[39m\u001b[39m\"\u001b[39m\n\u001b[1;32m    226\u001b[0m troughs, _ \u001b[39m=\u001b[39m scipy\u001b[39m.\u001b[39msignal\u001b[39m.\u001b[39mfind_peaks(\u001b[39m-\u001b[39m\u001b[39m1\u001b[39m \u001b[39m*\u001b[39m signal)\n\u001b[0;32m--> 228\u001b[0m bases \u001b[39m=\u001b[39m find_closest(peaks, troughs, direction\u001b[39m=\u001b[39;49mdirection, strictly\u001b[39m=\u001b[39;49m\u001b[39mTrue\u001b[39;49;00m)\n\u001b[1;32m    229\u001b[0m bases \u001b[39m=\u001b[39m as_vector(bases)\n\u001b[1;32m    231\u001b[0m \u001b[39mreturn\u001b[39;00m bases\n",
      "File \u001b[0;32m~/anaconda3/envs/sip-person_identification/lib/python3.8/site-packages/neurokit2/misc/find_closest.py:53\u001b[0m, in \u001b[0;36mfind_closest\u001b[0;34m(closest_to, list_to_search_in, direction, strictly, return_index)\u001b[0m\n\u001b[1;32m     50\u001b[0m closest_to \u001b[39m=\u001b[39m as_vector(closest_to)\n\u001b[1;32m     51\u001b[0m list_to_search_in \u001b[39m=\u001b[39m pd\u001b[39m.\u001b[39mSeries(as_vector(list_to_search_in))\n\u001b[0;32m---> 53\u001b[0m out \u001b[39m=\u001b[39m [\n\u001b[1;32m     54\u001b[0m     _find_closest(i, list_to_search_in, direction, strictly, return_index) \u001b[39mfor\u001b[39;00m i \u001b[39min\u001b[39;00m closest_to\n\u001b[1;32m     55\u001b[0m ]\n\u001b[1;32m     57\u001b[0m \u001b[39mif\u001b[39;00m \u001b[39mlen\u001b[39m(out) \u001b[39m==\u001b[39m \u001b[39m1\u001b[39m:\n\u001b[1;32m     58\u001b[0m     \u001b[39mreturn\u001b[39;00m out[\u001b[39m0\u001b[39m]\n",
      "File \u001b[0;32m~/anaconda3/envs/sip-person_identification/lib/python3.8/site-packages/neurokit2/misc/find_closest.py:54\u001b[0m, in \u001b[0;36m<listcomp>\u001b[0;34m(.0)\u001b[0m\n\u001b[1;32m     50\u001b[0m closest_to \u001b[39m=\u001b[39m as_vector(closest_to)\n\u001b[1;32m     51\u001b[0m list_to_search_in \u001b[39m=\u001b[39m pd\u001b[39m.\u001b[39mSeries(as_vector(list_to_search_in))\n\u001b[1;32m     53\u001b[0m out \u001b[39m=\u001b[39m [\n\u001b[0;32m---> 54\u001b[0m     _find_closest(i, list_to_search_in, direction, strictly, return_index) \u001b[39mfor\u001b[39;00m i \u001b[39min\u001b[39;00m closest_to\n\u001b[1;32m     55\u001b[0m ]\n\u001b[1;32m     57\u001b[0m \u001b[39mif\u001b[39;00m \u001b[39mlen\u001b[39m(out) \u001b[39m==\u001b[39m \u001b[39m1\u001b[39m:\n\u001b[1;32m     58\u001b[0m     \u001b[39mreturn\u001b[39;00m out[\u001b[39m0\u001b[39m]\n",
      "File \u001b[0;32m~/anaconda3/envs/sip-person_identification/lib/python3.8/site-packages/neurokit2/misc/find_closest.py:71\u001b[0m, in \u001b[0;36m_find_closest\u001b[0;34m(closest_to, list_to_search_in, direction, strictly, return_index)\u001b[0m\n\u001b[1;32m     66\u001b[0m \u001b[39mdef\u001b[39;00m \u001b[39m_find_closest\u001b[39m(\n\u001b[1;32m     67\u001b[0m     closest_to, list_to_search_in, direction\u001b[39m=\u001b[39m\u001b[39m\"\u001b[39m\u001b[39mboth\u001b[39m\u001b[39m\"\u001b[39m, strictly\u001b[39m=\u001b[39m\u001b[39mFalse\u001b[39;00m, return_index\u001b[39m=\u001b[39m\u001b[39mFalse\u001b[39;00m\n\u001b[1;32m     68\u001b[0m ):\n\u001b[1;32m     70\u001b[0m     \u001b[39mtry\u001b[39;00m:\n\u001b[0;32m---> 71\u001b[0m         index, closest \u001b[39m=\u001b[39m _find_closest_single_pandas(\n\u001b[1;32m     72\u001b[0m             closest_to, list_to_search_in, direction, strictly\n\u001b[1;32m     73\u001b[0m         )\n\u001b[1;32m     74\u001b[0m     \u001b[39mexcept\u001b[39;00m \u001b[39mValueError\u001b[39;00m:\n\u001b[1;32m     75\u001b[0m         index, closest \u001b[39m=\u001b[39m np\u001b[39m.\u001b[39mnan, np\u001b[39m.\u001b[39mnan\n",
      "File \u001b[0;32m~/anaconda3/envs/sip-person_identification/lib/python3.8/site-packages/neurokit2/misc/find_closest.py:112\u001b[0m, in \u001b[0;36m_find_closest_single_pandas\u001b[0;34m(x, vals, direction, strictly)\u001b[0m\n\u001b[1;32m    110\u001b[0m \u001b[39mif\u001b[39;00m direction \u001b[39min\u001b[39;00m [\u001b[39m\"\u001b[39m\u001b[39msmaller\u001b[39m\u001b[39m\"\u001b[39m, \u001b[39m\"\u001b[39m\u001b[39mbelow\u001b[39m\u001b[39m\"\u001b[39m]:\n\u001b[1;32m    111\u001b[0m     \u001b[39mif\u001b[39;00m strictly \u001b[39mis\u001b[39;00m \u001b[39mTrue\u001b[39;00m:\n\u001b[0;32m--> 112\u001b[0m         index \u001b[39m=\u001b[39m (np\u001b[39m.\u001b[39;49mabs(vals[vals \u001b[39m<\u001b[39;49m x] \u001b[39m-\u001b[39;49m x))\u001b[39m.\u001b[39;49midxmin()\n\u001b[1;32m    113\u001b[0m     \u001b[39melse\u001b[39;00m:\n\u001b[1;32m    114\u001b[0m         index \u001b[39m=\u001b[39m (np\u001b[39m.\u001b[39mabs(vals[vals \u001b[39m<\u001b[39m\u001b[39m=\u001b[39m x] \u001b[39m-\u001b[39m x))\u001b[39m.\u001b[39midxmin()\n",
      "File \u001b[0;32m~/anaconda3/envs/sip-person_identification/lib/python3.8/site-packages/pandas/core/series.py:2498\u001b[0m, in \u001b[0;36mSeries.idxmin\u001b[0;34m(self, axis, skipna, *args, **kwargs)\u001b[0m\n\u001b[1;32m   2496\u001b[0m \u001b[39mif\u001b[39;00m i \u001b[39m==\u001b[39m \u001b[39m-\u001b[39m\u001b[39m1\u001b[39m:\n\u001b[1;32m   2497\u001b[0m     \u001b[39mreturn\u001b[39;00m np\u001b[39m.\u001b[39mnan\n\u001b[0;32m-> 2498\u001b[0m \u001b[39mreturn\u001b[39;00m \u001b[39mself\u001b[39;49m\u001b[39m.\u001b[39;49mindex[i]\n",
      "File \u001b[0;32m~/anaconda3/envs/sip-person_identification/lib/python3.8/site-packages/pandas/core/indexes/base.py:5347\u001b[0m, in \u001b[0;36mIndex.__getitem__\u001b[0;34m(self, key)\u001b[0m\n\u001b[1;32m   5343\u001b[0m \u001b[39m@final\u001b[39m\n\u001b[1;32m   5344\u001b[0m \u001b[39mdef\u001b[39;00m \u001b[39m__setitem__\u001b[39m(\u001b[39mself\u001b[39m, key, value):\n\u001b[1;32m   5345\u001b[0m     \u001b[39mraise\u001b[39;00m \u001b[39mTypeError\u001b[39;00m(\u001b[39m\"\u001b[39m\u001b[39mIndex does not support mutable operations\u001b[39m\u001b[39m\"\u001b[39m)\n\u001b[0;32m-> 5347\u001b[0m \u001b[39mdef\u001b[39;00m \u001b[39m__getitem__\u001b[39m(\u001b[39mself\u001b[39m, key):\n\u001b[1;32m   5348\u001b[0m     \u001b[39m\"\"\"\u001b[39;00m\n\u001b[1;32m   5349\u001b[0m \u001b[39m    Override numpy.ndarray's __getitem__ method to work as desired.\u001b[39;00m\n\u001b[1;32m   5350\u001b[0m \n\u001b[0;32m   (...)\u001b[0m\n\u001b[1;32m   5356\u001b[0m \n\u001b[1;32m   5357\u001b[0m \u001b[39m    \"\"\"\u001b[39;00m\n\u001b[1;32m   5358\u001b[0m     getitem \u001b[39m=\u001b[39m \u001b[39mself\u001b[39m\u001b[39m.\u001b[39m_data\u001b[39m.\u001b[39m\u001b[39m__getitem__\u001b[39m\n",
      "\u001b[0;31mKeyboardInterrupt\u001b[0m: "
     ]
    }
   ],
   "source": [
    "os.chdir(dir)\n",
    "os.chdir(dir + '/DATASET/MIT-BIH')\n",
    "IDs = os.listdir()\n",
    "print(IDs)\n",
    "\n",
    "# Channel number\n",
    "N = 0\n",
    "\n",
    "f = open(dir + '/Features' +'/'+ f\"Feature_MIT_BIH_Channel_{N}.csv\", \"a\")\n",
    "f.write(\"ID,CC_1,CC_2,CC_3,CC_4,CC_5,CC_6,CC_7,CC_8,CC_9,CC_10,CC_11,CC_12,ENTROPY,ZCR,TARGET\\n\")\n",
    "\n",
    "for ID in IDs:\n",
    "    print(ID)\n",
    "    os.chdir(  os.getcwd()+ '/'+ ID)\n",
    "    Audio = os.listdir()\n",
    "    Audio_list = [k for k in Audio if '.dat' in k]\n",
    "\n",
    "\n",
    "\n",
    "    for A in Audio_list:\n",
    "        \n",
    "        print(A)\n",
    "        signal_array, fields = wf.rdsamp( os.getcwd() +  \"/\" + A.replace(\".dat\", \"\"))\n",
    "        sig = signal_array[:,N]\n",
    "\n",
    "        # For single channel\n",
    "        sos = signal.butter(6, [2, 50], btype='bandpass', fs=fields['fs'], analog= False)\n",
    "        filtered = signal.filtfilt(sos[0], sos[1], sig)\n",
    "\n",
    "        try:\n",
    "            _, rpeaks = ECG.ecg_peaks(filtered, sampling_rate=fields['fs'])\n",
    "            _, waves_peak = ECG.ecg_delineate(filtered, rpeaks, sampling_rate=1000, method=\"peak\")\n",
    "            t_peaks_ind = waves_peak['ECG_T_Peaks']\n",
    "        except IndexError:\n",
    "            print('Skipping' + A)\n",
    "            break\n",
    "        except TypeError:\n",
    "            print('Skipping' + A)\n",
    "            break\n",
    "        except ValueError:\n",
    "            print('Skipping' + A)\n",
    "            break\n",
    "        \n",
    "\n",
    "        for n in range(len(t_peaks_ind)-1):\n",
    "\n",
    "            try:\n",
    "                segment = filtered[int(t_peaks_ind[n]):int(t_peaks_ind[n+1])]\n",
    "                CC = Feature_CC(segment)\n",
    "                Entropy = Feature_Entropy(segment) \n",
    "                ZCR = Feature_ZCR(segment)\n",
    "\n",
    "                feature_string = ID + '_' + A.replace('.dat','') +'_' + str(n) + ConvertArray2String(CC) + ',' + str(Entropy) + ',' +  str(ZCR) + ',' + A.replace('.dat','').replace('x_','') + '\\n'\n",
    "                f.write(feature_string)\n",
    "            except ValueError:\n",
    "                print('Skipping a segment')\n",
    "\n",
    "\n",
    "    os.chdir(dir + '/DATASET/MIT-BIH')\n",
    "\n",
    "f.close()"
   ]
  },
  {
   "cell_type": "code",
   "execution_count": null,
   "metadata": {},
   "outputs": [
    {
     "name": "stdout",
     "output_type": "stream",
     "text": [
      "['Records_2', 'Records_1']\n",
      "Records_2\n",
      "x_123.dat\n",
      "x_222.dat\n",
      "x_233.dat\n",
      "x_114.dat\n",
      "x_231.dat\n",
      "x_230.dat\n",
      "x_122.dat\n",
      "x_232.dat\n",
      "Skipping a segment\n",
      "Skipping a segment\n",
      "Skipping a segment\n",
      "Skipping a segment\n",
      "Skipping a segment\n",
      "Skipping a segment\n",
      "Skipping a segment\n",
      "Skipping a segment\n",
      "Skipping a segment\n",
      "Skipping a segment\n",
      "Skipping a segment\n",
      "Skipping a segment\n",
      "Skipping a segment\n",
      "Skipping a segment\n",
      "Skipping a segment\n",
      "Skipping a segment\n",
      "Skipping a segment\n",
      "Skipping a segment\n",
      "Skipping a segment\n",
      "Skipping a segment\n",
      "Skipping a segment\n",
      "Skipping a segment\n",
      "x_111.dat\n",
      "Skipping a segment\n",
      "x_223.dat\n",
      "x_234.dat\n",
      "x_121.dat\n",
      "Skipping a segment\n",
      "x_109.dat\n",
      "x_113.dat\n",
      "x_108.dat\n",
      "Skipping a segment\n",
      "Skipping a segment\n",
      "Skipping a segment\n",
      "Skipping a segment\n",
      "Skipping a segment\n",
      "x_124.dat\n",
      "x_115.dat\n",
      "x_221.dat\n",
      "x_220.dat\n",
      "x_116.dat\n",
      "x_117.dat\n",
      "x_228.dat\n"
     ]
    },
    {
     "ename": "KeyboardInterrupt",
     "evalue": "",
     "output_type": "error",
     "traceback": [
      "\u001b[0;31m---------------------------------------------------------------------------\u001b[0m",
      "\u001b[0;31mKeyboardInterrupt\u001b[0m                         Traceback (most recent call last)",
      "Cell \u001b[0;32mIn[9], line 32\u001b[0m\n\u001b[1;32m     30\u001b[0m \u001b[39mtry\u001b[39;00m:\n\u001b[1;32m     31\u001b[0m     _, rpeaks \u001b[39m=\u001b[39m ECG\u001b[39m.\u001b[39mecg_peaks(filtered, sampling_rate\u001b[39m=\u001b[39mfields[\u001b[39m'\u001b[39m\u001b[39mfs\u001b[39m\u001b[39m'\u001b[39m])\n\u001b[0;32m---> 32\u001b[0m     _, waves_peak \u001b[39m=\u001b[39m ECG\u001b[39m.\u001b[39;49mecg_delineate(filtered, rpeaks, sampling_rate\u001b[39m=\u001b[39;49m\u001b[39m1000\u001b[39;49m, method\u001b[39m=\u001b[39;49m\u001b[39m\"\u001b[39;49m\u001b[39mpeak\u001b[39;49m\u001b[39m\"\u001b[39;49m)\n\u001b[1;32m     33\u001b[0m     t_peaks_ind \u001b[39m=\u001b[39m waves_peak[\u001b[39m'\u001b[39m\u001b[39mECG_T_Peaks\u001b[39m\u001b[39m'\u001b[39m]\n\u001b[1;32m     34\u001b[0m \u001b[39mexcept\u001b[39;00m \u001b[39mIndexError\u001b[39;00m:\n",
      "File \u001b[0;32m~/anaconda3/envs/sip-person_identification/lib/python3.8/site-packages/neurokit2/ecg/ecg_delineate.py:143\u001b[0m, in \u001b[0;36mecg_delineate\u001b[0;34m(ecg_cleaned, rpeaks, sampling_rate, method, show, show_type, check, **kwargs)\u001b[0m\n\u001b[1;32m    141\u001b[0m method \u001b[39m=\u001b[39m method\u001b[39m.\u001b[39mlower()  \u001b[39m# remove capitalised letters\u001b[39;00m\n\u001b[1;32m    142\u001b[0m \u001b[39mif\u001b[39;00m method \u001b[39min\u001b[39;00m [\u001b[39m\"\u001b[39m\u001b[39mpeak\u001b[39m\u001b[39m\"\u001b[39m, \u001b[39m\"\u001b[39m\u001b[39mpeaks\u001b[39m\u001b[39m\"\u001b[39m, \u001b[39m\"\u001b[39m\u001b[39mderivative\u001b[39m\u001b[39m\"\u001b[39m, \u001b[39m\"\u001b[39m\u001b[39mgradient\u001b[39m\u001b[39m\"\u001b[39m]:\n\u001b[0;32m--> 143\u001b[0m     waves \u001b[39m=\u001b[39m _ecg_delineator_peak(ecg_cleaned, rpeaks\u001b[39m=\u001b[39;49mrpeaks, sampling_rate\u001b[39m=\u001b[39;49msampling_rate)\n\u001b[1;32m    144\u001b[0m \u001b[39melif\u001b[39;00m method \u001b[39min\u001b[39;00m [\u001b[39m\"\u001b[39m\u001b[39mcwt\u001b[39m\u001b[39m\"\u001b[39m, \u001b[39m\"\u001b[39m\u001b[39mcontinuous wavelet transform\u001b[39m\u001b[39m\"\u001b[39m]:\n\u001b[1;32m    145\u001b[0m     waves \u001b[39m=\u001b[39m _ecg_delineator_cwt(ecg_cleaned, rpeaks\u001b[39m=\u001b[39mrpeaks, sampling_rate\u001b[39m=\u001b[39msampling_rate)\n",
      "File \u001b[0;32m~/anaconda3/envs/sip-person_identification/lib/python3.8/site-packages/neurokit2/ecg/ecg_delineate.py:832\u001b[0m, in \u001b[0;36m_ecg_delineator_peak\u001b[0;34m(ecg, rpeaks, sampling_rate)\u001b[0m\n\u001b[1;32m    829\u001b[0m Q_list\u001b[39m.\u001b[39mappend(Q_index)\n\u001b[1;32m    831\u001b[0m \u001b[39m# P wave\u001b[39;00m\n\u001b[0;32m--> 832\u001b[0m P_index, P \u001b[39m=\u001b[39m _ecg_delineator_peak_P(rpeak, heartbeat, R, Q)\n\u001b[1;32m    833\u001b[0m P_list\u001b[39m.\u001b[39mappend(P_index)\n\u001b[1;32m    835\u001b[0m \u001b[39m# S wave\u001b[39;00m\n",
      "File \u001b[0;32m~/anaconda3/envs/sip-person_identification/lib/python3.8/site-packages/neurokit2/ecg/ecg_delineate.py:888\u001b[0m, in \u001b[0;36m_ecg_delineator_peak_P\u001b[0;34m(rpeak, heartbeat, R, Q)\u001b[0m\n\u001b[1;32m    885\u001b[0m     \u001b[39mreturn\u001b[39;00m np\u001b[39m.\u001b[39mnan, \u001b[39mNone\u001b[39;00m\n\u001b[1;32m    887\u001b[0m segment \u001b[39m=\u001b[39m heartbeat\u001b[39m.\u001b[39miloc[:Q]  \u001b[39m# Select left of Q wave\u001b[39;00m\n\u001b[0;32m--> 888\u001b[0m P \u001b[39m=\u001b[39m signal_findpeaks(segment[\u001b[39m\"\u001b[39;49m\u001b[39mSignal\u001b[39;49m\u001b[39m\"\u001b[39;49m], height_min\u001b[39m=\u001b[39;49m\u001b[39m0.05\u001b[39;49m \u001b[39m*\u001b[39;49m (segment[\u001b[39m\"\u001b[39;49m\u001b[39mSignal\u001b[39;49m\u001b[39m\"\u001b[39;49m]\u001b[39m.\u001b[39;49mmax() \u001b[39m-\u001b[39;49m segment[\u001b[39m\"\u001b[39;49m\u001b[39mSignal\u001b[39;49m\u001b[39m\"\u001b[39;49m]\u001b[39m.\u001b[39;49mmin()))\n\u001b[1;32m    890\u001b[0m \u001b[39mif\u001b[39;00m \u001b[39mlen\u001b[39m(P[\u001b[39m\"\u001b[39m\u001b[39mPeaks\u001b[39m\u001b[39m\"\u001b[39m]) \u001b[39m==\u001b[39m \u001b[39m0\u001b[39m:\n\u001b[1;32m    891\u001b[0m     \u001b[39mreturn\u001b[39;00m np\u001b[39m.\u001b[39mnan, \u001b[39mNone\u001b[39;00m\n",
      "File \u001b[0;32m~/anaconda3/envs/sip-person_identification/lib/python3.8/site-packages/neurokit2/signal/signal_findpeaks.py:133\u001b[0m, in \u001b[0;36msignal_findpeaks\u001b[0;34m(signal, height_min, height_max, relative_height_min, relative_height_max, relative_mean, relative_median, relative_max)\u001b[0m\n\u001b[1;32m    131\u001b[0m info[\u001b[39m\"\u001b[39m\u001b[39mDistance\u001b[39m\u001b[39m\"\u001b[39m] \u001b[39m=\u001b[39m _signal_findpeaks_distances(info[\u001b[39m\"\u001b[39m\u001b[39mPeaks\u001b[39m\u001b[39m\"\u001b[39m])\n\u001b[1;32m    132\u001b[0m info[\u001b[39m\"\u001b[39m\u001b[39mOnsets\u001b[39m\u001b[39m\"\u001b[39m] \u001b[39m=\u001b[39m _signal_findpeaks_findbase(info[\u001b[39m\"\u001b[39m\u001b[39mPeaks\u001b[39m\u001b[39m\"\u001b[39m], signal, what\u001b[39m=\u001b[39m\u001b[39m\"\u001b[39m\u001b[39monset\u001b[39m\u001b[39m\"\u001b[39m)\n\u001b[0;32m--> 133\u001b[0m info[\u001b[39m\"\u001b[39m\u001b[39mOffsets\u001b[39m\u001b[39m\"\u001b[39m] \u001b[39m=\u001b[39m _signal_findpeaks_findbase(info[\u001b[39m\"\u001b[39;49m\u001b[39mPeaks\u001b[39;49m\u001b[39m\"\u001b[39;49m], signal, what\u001b[39m=\u001b[39;49m\u001b[39m\"\u001b[39;49m\u001b[39moffset\u001b[39;49m\u001b[39m\"\u001b[39;49m)\n\u001b[1;32m    135\u001b[0m \u001b[39mreturn\u001b[39;00m info\n",
      "File \u001b[0;32m~/anaconda3/envs/sip-person_identification/lib/python3.8/site-packages/neurokit2/signal/signal_findpeaks.py:228\u001b[0m, in \u001b[0;36m_signal_findpeaks_findbase\u001b[0;34m(peaks, signal, what)\u001b[0m\n\u001b[1;32m    224\u001b[0m     direction \u001b[39m=\u001b[39m \u001b[39m\"\u001b[39m\u001b[39mgreater\u001b[39m\u001b[39m\"\u001b[39m\n\u001b[1;32m    226\u001b[0m troughs, _ \u001b[39m=\u001b[39m scipy\u001b[39m.\u001b[39msignal\u001b[39m.\u001b[39mfind_peaks(\u001b[39m-\u001b[39m\u001b[39m1\u001b[39m \u001b[39m*\u001b[39m signal)\n\u001b[0;32m--> 228\u001b[0m bases \u001b[39m=\u001b[39m find_closest(peaks, troughs, direction\u001b[39m=\u001b[39;49mdirection, strictly\u001b[39m=\u001b[39;49m\u001b[39mTrue\u001b[39;49;00m)\n\u001b[1;32m    229\u001b[0m bases \u001b[39m=\u001b[39m as_vector(bases)\n\u001b[1;32m    231\u001b[0m \u001b[39mreturn\u001b[39;00m bases\n",
      "File \u001b[0;32m~/anaconda3/envs/sip-person_identification/lib/python3.8/site-packages/neurokit2/misc/find_closest.py:53\u001b[0m, in \u001b[0;36mfind_closest\u001b[0;34m(closest_to, list_to_search_in, direction, strictly, return_index)\u001b[0m\n\u001b[1;32m     50\u001b[0m closest_to \u001b[39m=\u001b[39m as_vector(closest_to)\n\u001b[1;32m     51\u001b[0m list_to_search_in \u001b[39m=\u001b[39m pd\u001b[39m.\u001b[39mSeries(as_vector(list_to_search_in))\n\u001b[0;32m---> 53\u001b[0m out \u001b[39m=\u001b[39m [\n\u001b[1;32m     54\u001b[0m     _find_closest(i, list_to_search_in, direction, strictly, return_index) \u001b[39mfor\u001b[39;00m i \u001b[39min\u001b[39;00m closest_to\n\u001b[1;32m     55\u001b[0m ]\n\u001b[1;32m     57\u001b[0m \u001b[39mif\u001b[39;00m \u001b[39mlen\u001b[39m(out) \u001b[39m==\u001b[39m \u001b[39m1\u001b[39m:\n\u001b[1;32m     58\u001b[0m     \u001b[39mreturn\u001b[39;00m out[\u001b[39m0\u001b[39m]\n",
      "File \u001b[0;32m~/anaconda3/envs/sip-person_identification/lib/python3.8/site-packages/neurokit2/misc/find_closest.py:54\u001b[0m, in \u001b[0;36m<listcomp>\u001b[0;34m(.0)\u001b[0m\n\u001b[1;32m     50\u001b[0m closest_to \u001b[39m=\u001b[39m as_vector(closest_to)\n\u001b[1;32m     51\u001b[0m list_to_search_in \u001b[39m=\u001b[39m pd\u001b[39m.\u001b[39mSeries(as_vector(list_to_search_in))\n\u001b[1;32m     53\u001b[0m out \u001b[39m=\u001b[39m [\n\u001b[0;32m---> 54\u001b[0m     _find_closest(i, list_to_search_in, direction, strictly, return_index) \u001b[39mfor\u001b[39;00m i \u001b[39min\u001b[39;00m closest_to\n\u001b[1;32m     55\u001b[0m ]\n\u001b[1;32m     57\u001b[0m \u001b[39mif\u001b[39;00m \u001b[39mlen\u001b[39m(out) \u001b[39m==\u001b[39m \u001b[39m1\u001b[39m:\n\u001b[1;32m     58\u001b[0m     \u001b[39mreturn\u001b[39;00m out[\u001b[39m0\u001b[39m]\n",
      "File \u001b[0;32m~/anaconda3/envs/sip-person_identification/lib/python3.8/site-packages/neurokit2/misc/find_closest.py:71\u001b[0m, in \u001b[0;36m_find_closest\u001b[0;34m(closest_to, list_to_search_in, direction, strictly, return_index)\u001b[0m\n\u001b[1;32m     66\u001b[0m \u001b[39mdef\u001b[39;00m \u001b[39m_find_closest\u001b[39m(\n\u001b[1;32m     67\u001b[0m     closest_to, list_to_search_in, direction\u001b[39m=\u001b[39m\u001b[39m\"\u001b[39m\u001b[39mboth\u001b[39m\u001b[39m\"\u001b[39m, strictly\u001b[39m=\u001b[39m\u001b[39mFalse\u001b[39;00m, return_index\u001b[39m=\u001b[39m\u001b[39mFalse\u001b[39;00m\n\u001b[1;32m     68\u001b[0m ):\n\u001b[1;32m     70\u001b[0m     \u001b[39mtry\u001b[39;00m:\n\u001b[0;32m---> 71\u001b[0m         index, closest \u001b[39m=\u001b[39m _find_closest_single_pandas(\n\u001b[1;32m     72\u001b[0m             closest_to, list_to_search_in, direction, strictly\n\u001b[1;32m     73\u001b[0m         )\n\u001b[1;32m     74\u001b[0m     \u001b[39mexcept\u001b[39;00m \u001b[39mValueError\u001b[39;00m:\n\u001b[1;32m     75\u001b[0m         index, closest \u001b[39m=\u001b[39m np\u001b[39m.\u001b[39mnan, np\u001b[39m.\u001b[39mnan\n",
      "File \u001b[0;32m~/anaconda3/envs/sip-person_identification/lib/python3.8/site-packages/neurokit2/misc/find_closest.py:118\u001b[0m, in \u001b[0;36m_find_closest_single_pandas\u001b[0;34m(x, vals, direction, strictly)\u001b[0m\n\u001b[1;32m    116\u001b[0m \u001b[39mif\u001b[39;00m direction \u001b[39min\u001b[39;00m [\u001b[39m\"\u001b[39m\u001b[39mgreater\u001b[39m\u001b[39m\"\u001b[39m, \u001b[39m\"\u001b[39m\u001b[39mabove\u001b[39m\u001b[39m\"\u001b[39m]:\n\u001b[1;32m    117\u001b[0m     \u001b[39mif\u001b[39;00m strictly \u001b[39mis\u001b[39;00m \u001b[39mTrue\u001b[39;00m:\n\u001b[0;32m--> 118\u001b[0m         index \u001b[39m=\u001b[39m (vals[vals \u001b[39m>\u001b[39;49m x] \u001b[39m-\u001b[39;49m x)\u001b[39m.\u001b[39midxmin()\n\u001b[1;32m    119\u001b[0m     \u001b[39melse\u001b[39;00m:\n\u001b[1;32m    120\u001b[0m         index \u001b[39m=\u001b[39m (vals[vals \u001b[39m>\u001b[39m\u001b[39m=\u001b[39m x] \u001b[39m-\u001b[39m x)\u001b[39m.\u001b[39midxmin()\n",
      "File \u001b[0;32m~/anaconda3/envs/sip-person_identification/lib/python3.8/site-packages/pandas/core/ops/common.py:72\u001b[0m, in \u001b[0;36m_unpack_zerodim_and_defer.<locals>.new_method\u001b[0;34m(self, other)\u001b[0m\n\u001b[1;32m     68\u001b[0m             \u001b[39mreturn\u001b[39;00m \u001b[39mNotImplemented\u001b[39m\n\u001b[1;32m     70\u001b[0m other \u001b[39m=\u001b[39m item_from_zerodim(other)\n\u001b[0;32m---> 72\u001b[0m \u001b[39mreturn\u001b[39;00m method(\u001b[39mself\u001b[39;49m, other)\n",
      "File \u001b[0;32m~/anaconda3/envs/sip-person_identification/lib/python3.8/site-packages/pandas/core/arraylike.py:110\u001b[0m, in \u001b[0;36mOpsMixin.__sub__\u001b[0;34m(self, other)\u001b[0m\n\u001b[1;32m    108\u001b[0m \u001b[39m@unpack_zerodim_and_defer\u001b[39m(\u001b[39m\"\u001b[39m\u001b[39m__sub__\u001b[39m\u001b[39m\"\u001b[39m)\n\u001b[1;32m    109\u001b[0m \u001b[39mdef\u001b[39;00m \u001b[39m__sub__\u001b[39m(\u001b[39mself\u001b[39m, other):\n\u001b[0;32m--> 110\u001b[0m     \u001b[39mreturn\u001b[39;00m \u001b[39mself\u001b[39;49m\u001b[39m.\u001b[39;49m_arith_method(other, operator\u001b[39m.\u001b[39;49msub)\n",
      "File \u001b[0;32m~/anaconda3/envs/sip-person_identification/lib/python3.8/site-packages/pandas/core/series.py:6259\u001b[0m, in \u001b[0;36mSeries._arith_method\u001b[0;34m(self, other, op)\u001b[0m\n\u001b[1;32m   6257\u001b[0m \u001b[39mdef\u001b[39;00m \u001b[39m_arith_method\u001b[39m(\u001b[39mself\u001b[39m, other, op):\n\u001b[1;32m   6258\u001b[0m     \u001b[39mself\u001b[39m, other \u001b[39m=\u001b[39m ops\u001b[39m.\u001b[39malign_method_SERIES(\u001b[39mself\u001b[39m, other)\n\u001b[0;32m-> 6259\u001b[0m     \u001b[39mreturn\u001b[39;00m base\u001b[39m.\u001b[39;49mIndexOpsMixin\u001b[39m.\u001b[39;49m_arith_method(\u001b[39mself\u001b[39;49m, other, op)\n",
      "File \u001b[0;32m~/anaconda3/envs/sip-person_identification/lib/python3.8/site-packages/pandas/core/base.py:1327\u001b[0m, in \u001b[0;36mIndexOpsMixin._arith_method\u001b[0;34m(self, other, op)\u001b[0m\n\u001b[1;32m   1324\u001b[0m \u001b[39mwith\u001b[39;00m np\u001b[39m.\u001b[39merrstate(\u001b[39mall\u001b[39m\u001b[39m=\u001b[39m\u001b[39m\"\u001b[39m\u001b[39mignore\u001b[39m\u001b[39m\"\u001b[39m):\n\u001b[1;32m   1325\u001b[0m     result \u001b[39m=\u001b[39m ops\u001b[39m.\u001b[39marithmetic_op(lvalues, rvalues, op)\n\u001b[0;32m-> 1327\u001b[0m \u001b[39mreturn\u001b[39;00m \u001b[39mself\u001b[39;49m\u001b[39m.\u001b[39;49m_construct_result(result, name\u001b[39m=\u001b[39;49mres_name)\n",
      "File \u001b[0;32m~/anaconda3/envs/sip-person_identification/lib/python3.8/site-packages/pandas/core/series.py:3223\u001b[0m, in \u001b[0;36mSeries._construct_result\u001b[0;34m(self, result, name)\u001b[0m\n\u001b[1;32m   3219\u001b[0m     \u001b[39mreturn\u001b[39;00m (res1, res2)\n\u001b[1;32m   3221\u001b[0m \u001b[39m# We do not pass dtype to ensure that the Series constructor\u001b[39;00m\n\u001b[1;32m   3222\u001b[0m \u001b[39m#  does inference in the case where `result` has object-dtype.\u001b[39;00m\n\u001b[0;32m-> 3223\u001b[0m out \u001b[39m=\u001b[39m \u001b[39mself\u001b[39;49m\u001b[39m.\u001b[39;49m_constructor(result, index\u001b[39m=\u001b[39;49m\u001b[39mself\u001b[39;49m\u001b[39m.\u001b[39;49mindex)\n\u001b[1;32m   3224\u001b[0m out \u001b[39m=\u001b[39m out\u001b[39m.\u001b[39m__finalize__(\u001b[39mself\u001b[39m)\n\u001b[1;32m   3226\u001b[0m \u001b[39m# Set the result's name after __finalize__ is called because __finalize__\u001b[39;00m\n\u001b[1;32m   3227\u001b[0m \u001b[39m#  would set it back to self.name\u001b[39;00m\n",
      "File \u001b[0;32m~/anaconda3/envs/sip-person_identification/lib/python3.8/site-packages/pandas/core/series.py:484\u001b[0m, in \u001b[0;36mSeries.__init__\u001b[0;34m(self, data, index, dtype, name, copy, fastpath)\u001b[0m\n\u001b[1;32m    482\u001b[0m \u001b[39melse\u001b[39;00m:\n\u001b[1;32m    483\u001b[0m     \u001b[39mself\u001b[39m\u001b[39m.\u001b[39mname \u001b[39m=\u001b[39m name\n\u001b[0;32m--> 484\u001b[0m     \u001b[39mself\u001b[39;49m\u001b[39m.\u001b[39;49m_set_axis(\u001b[39m0\u001b[39;49m, index)\n",
      "File \u001b[0;32m~/anaconda3/envs/sip-person_identification/lib/python3.8/site-packages/pandas/core/series.py:572\u001b[0m, in \u001b[0;36mSeries._set_axis\u001b[0;34m(self, axis, labels)\u001b[0m\n\u001b[1;32m    565\u001b[0m \u001b[39mdef\u001b[39;00m \u001b[39m_set_axis\u001b[39m(\u001b[39mself\u001b[39m, axis: \u001b[39mint\u001b[39m, labels: AnyArrayLike \u001b[39m|\u001b[39m \u001b[39mlist\u001b[39m) \u001b[39m-\u001b[39m\u001b[39m>\u001b[39m \u001b[39mNone\u001b[39;00m:\n\u001b[1;32m    566\u001b[0m     \u001b[39m\"\"\"\u001b[39;00m\n\u001b[1;32m    567\u001b[0m \u001b[39m    Override generic, we want to set the _typ here.\u001b[39;00m\n\u001b[1;32m    568\u001b[0m \n\u001b[1;32m    569\u001b[0m \u001b[39m    This is called from the cython code when we set the `index` attribute\u001b[39;00m\n\u001b[1;32m    570\u001b[0m \u001b[39m    directly, e.g. `series.index = [1, 2, 3]`.\u001b[39;00m\n\u001b[1;32m    571\u001b[0m \u001b[39m    \"\"\"\u001b[39;00m\n\u001b[0;32m--> 572\u001b[0m     labels \u001b[39m=\u001b[39m ensure_index(labels)\n\u001b[1;32m    574\u001b[0m     \u001b[39mif\u001b[39;00m labels\u001b[39m.\u001b[39m_is_all_dates \u001b[39mand\u001b[39;00m \u001b[39mnot\u001b[39;00m (\n\u001b[1;32m    575\u001b[0m         \u001b[39mtype\u001b[39m(labels) \u001b[39mis\u001b[39;00m Index \u001b[39mand\u001b[39;00m \u001b[39mnot\u001b[39;00m \u001b[39misinstance\u001b[39m(labels\u001b[39m.\u001b[39mdtype, np\u001b[39m.\u001b[39mdtype)\n\u001b[1;32m    576\u001b[0m     ):\n\u001b[1;32m    577\u001b[0m         \u001b[39m# exclude e.g. timestamp[ns][pyarrow] dtype from this casting\u001b[39;00m\n\u001b[1;32m    578\u001b[0m         deep_labels \u001b[39m=\u001b[39m labels\n",
      "File \u001b[0;32m~/anaconda3/envs/sip-person_identification/lib/python3.8/site-packages/pandas/core/indexes/base.py:7320\u001b[0m, in \u001b[0;36mensure_index\u001b[0;34m(index_like, copy)\u001b[0m\n\u001b[1;32m   7316\u001b[0m     \u001b[39melse\u001b[39;00m:\n\u001b[1;32m   7317\u001b[0m         \u001b[39mreturn\u001b[39;00m MultiIndex\u001b[39m.\u001b[39mfrom_arrays(sequences, names\u001b[39m=\u001b[39mnames)\n\u001b[0;32m-> 7320\u001b[0m \u001b[39mdef\u001b[39;00m \u001b[39mensure_index\u001b[39m(index_like: Axes, copy: \u001b[39mbool\u001b[39m \u001b[39m=\u001b[39m \u001b[39mFalse\u001b[39;00m) \u001b[39m-\u001b[39m\u001b[39m>\u001b[39m Index:\n\u001b[1;32m   7321\u001b[0m     \u001b[39m\"\"\"\u001b[39;00m\n\u001b[1;32m   7322\u001b[0m \u001b[39m    Ensure that we have an index from some index-like object.\u001b[39;00m\n\u001b[1;32m   7323\u001b[0m \n\u001b[0;32m   (...)\u001b[0m\n\u001b[1;32m   7349\u001b[0m \u001b[39m           )\u001b[39;00m\n\u001b[1;32m   7350\u001b[0m \u001b[39m    \"\"\"\u001b[39;00m\n\u001b[1;32m   7351\u001b[0m     \u001b[39mif\u001b[39;00m \u001b[39misinstance\u001b[39m(index_like, Index):\n",
      "\u001b[0;31mKeyboardInterrupt\u001b[0m: "
     ]
    }
   ],
   "source": [
    "os.chdir(dir)\n",
    "os.chdir(dir + '/DATASET/MIT-BIH')\n",
    "IDs = os.listdir()\n",
    "print(IDs)\n",
    "\n",
    "# Channel number\n",
    "N = 1\n",
    "\n",
    "f = open(dir + '/Features' +'/'+ f\"Feature_MIT_BIH_Channel_{N}.csv\", \"a\")\n",
    "f.write(\"ID,CC_1,CC_2,CC_3,CC_4,CC_5,CC_6,CC_7,CC_8,CC_9,CC_10,CC_11,CC_12,ENTROPY,ZCR,TARGET\\n\")\n",
    "\n",
    "for ID in IDs:\n",
    "    print(ID)\n",
    "    os.chdir(  os.getcwd()+ '/'+ ID)\n",
    "    Audio = os.listdir()\n",
    "    Audio_list = [k for k in Audio if '.dat' in k]\n",
    "\n",
    "\n",
    "\n",
    "    for A in Audio_list:\n",
    "        \n",
    "        print(A)\n",
    "        signal_array, fields = wf.rdsamp( os.getcwd() +  \"/\" + A.replace(\".dat\", \"\"))\n",
    "        sig = signal_array[:,N]\n",
    "\n",
    "        # For single channel\n",
    "        sos = signal.butter(6, [2, 50], btype='bandpass', fs=fields['fs'], analog= False)\n",
    "        filtered = signal.filtfilt(sos[0], sos[1], sig)\n",
    "\n",
    "        try:\n",
    "            _, rpeaks = ECG.ecg_peaks(filtered, sampling_rate=fields['fs'])\n",
    "            _, waves_peak = ECG.ecg_delineate(filtered, rpeaks, sampling_rate=1000, method=\"peak\")\n",
    "            t_peaks_ind = waves_peak['ECG_T_Peaks']\n",
    "        except IndexError:\n",
    "            print('Skipping' + A)\n",
    "            break\n",
    "        except TypeError:\n",
    "            print('Skipping' + A)\n",
    "            break\n",
    "        except ValueError:\n",
    "            print('Skipping' + A)\n",
    "            break\n",
    "        \n",
    "\n",
    "        for n in range(len(t_peaks_ind)-1):\n",
    "\n",
    "            try:\n",
    "                segment = filtered[int(t_peaks_ind[n]):int(t_peaks_ind[n+1])]\n",
    "                CC = Feature_CC(segment)\n",
    "                Entropy = Feature_Entropy(segment) \n",
    "                ZCR = Feature_ZCR(segment)\n",
    "\n",
    "                feature_string = ID + '_' + A.replace('.dat','') +'_' + str(n) + ConvertArray2String(CC) + ',' + str(Entropy) + ',' +  str(ZCR) + ',' + A.replace('.dat','').replace('x_','') + '\\n'\n",
    "                f.write(feature_string)\n",
    "            except ValueError:\n",
    "                print('Skipping a segment')\n",
    "\n",
    "    os.chdir(dir + '/DATASET/MIT-BIH')\n",
    "\n",
    "f.close()"
   ]
  },
  {
   "cell_type": "code",
   "execution_count": null,
   "metadata": {},
   "outputs": [
    {
     "name": "stdout",
     "output_type": "stream",
     "text": [
      "Error\n"
     ]
    }
   ],
   "source": [
    "for n in range(0,10):\n",
    "    try:\n",
    "        Print\n",
    "    except NameError:\n",
    "        print(\"Error\")\n",
    "        break\n",
    "\n",
    "    print(n)"
   ]
  }
 ],
 "metadata": {
  "kernelspec": {
   "display_name": "sip-person_identification",
   "language": "python",
   "name": "python3"
  },
  "language_info": {
   "codemirror_mode": {
    "name": "ipython",
    "version": 3
   },
   "file_extension": ".py",
   "mimetype": "text/x-python",
   "name": "python",
   "nbconvert_exporter": "python",
   "pygments_lexer": "ipython3",
   "version": "3.8.15"
  },
  "orig_nbformat": 4,
  "vscode": {
   "interpreter": {
    "hash": "0b6819903465b6f80edaece2a807aed469d8f41936c3b6c7b4bd5b116e5c55fc"
   }
  }
 },
 "nbformat": 4,
 "nbformat_minor": 2
}
