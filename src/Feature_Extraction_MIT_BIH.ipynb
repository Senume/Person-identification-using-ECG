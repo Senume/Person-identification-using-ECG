{
 "cells": [
  {
   "cell_type": "code",
   "execution_count": 1,
   "metadata": {},
   "outputs": [],
   "source": [
    "import wfdb as wf\n",
    "from wfdb import processing\n",
    "\n",
    "import neurokit2 as ECG\n",
    "import librosa as mi\n",
    "\n",
    "\n",
    "import matplotlib.pyplot as plt\n",
    "from scipy import signal\n",
    "from scipy.fft import fft, ifft\n",
    "import numpy as np\n",
    "import os"
   ]
  },
  {
   "cell_type": "code",
   "execution_count": 2,
   "metadata": {},
   "outputs": [],
   "source": [
    "def Feature_CC(segment):\n",
    "    try:\n",
    "        win = signal.windows.hamming(len(segment))\n",
    "        win_segment = np.multiply(segment, win)\n",
    "\n",
    "        fft_c = fft(win_segment,len(win_segment))\n",
    "        log_fft_c = np.log(np.abs(fft_c))\n",
    "        cc= ifft(log_fft_c)\n",
    "\n",
    "        return np.real(cc[:12])\n",
    "    except IndexError:\n",
    "        print(\"Index_error\")\n",
    "\n",
    "def Feature_Entropy(segment):\n",
    "\n",
    "\n",
    "    counts, _ = np.histogram(segment, bins=5)\n",
    "    P_x = counts/sum(counts)\n",
    "\n",
    "    entropy = sum(np.multiply(P_x,np.log2(P_x)))\n",
    "\n",
    "    return entropy\n",
    "        \n",
    "\n",
    "\n",
    "def Feature_ZCR(segment):\n",
    "    return np.sum(mi.zero_crossings(segment).astype(float))\n",
    "\n",
    "def ConvertArray2String(B):\n",
    "    Feature = \"\"\n",
    "    for i in B:\n",
    "        Feature = Feature + ',' +str(i)\n",
    "    return Feature\n"
   ]
  },
  {
   "cell_type": "code",
   "execution_count": 3,
   "metadata": {},
   "outputs": [],
   "source": [
    "os.chdir('..')\n",
    "dir = os.getcwd()"
   ]
  },
  {
   "cell_type": "code",
   "execution_count": 4,
   "metadata": {},
   "outputs": [
    {
     "name": "stdout",
     "output_type": "stream",
     "text": [
      "['Records_2', 'Records_1']\n",
      "Records_2\n",
      "x_123.dat\n",
      "Skipping a segment\n",
      "x_222.dat\n"
     ]
    },
    {
     "name": "stderr",
     "output_type": "stream",
     "text": [
      "/tmp/ipykernel_3893/427523320.py:20: RuntimeWarning: divide by zero encountered in log2\n",
      "  entropy = sum(np.multiply(P_x,np.log2(P_x)))\n",
      "/tmp/ipykernel_3893/427523320.py:20: RuntimeWarning: invalid value encountered in multiply\n",
      "  entropy = sum(np.multiply(P_x,np.log2(P_x)))\n"
     ]
    },
    {
     "name": "stdout",
     "output_type": "stream",
     "text": [
      "x_233.dat\n",
      "x_114.dat\n",
      "x_231.dat\n"
     ]
    },
    {
     "name": "stderr",
     "output_type": "stream",
     "text": [
      "/tmp/ipykernel_3893/427523320.py:20: RuntimeWarning: divide by zero encountered in log2\n",
      "  entropy = sum(np.multiply(P_x,np.log2(P_x)))\n",
      "/tmp/ipykernel_3893/427523320.py:20: RuntimeWarning: invalid value encountered in multiply\n",
      "  entropy = sum(np.multiply(P_x,np.log2(P_x)))\n"
     ]
    },
    {
     "name": "stdout",
     "output_type": "stream",
     "text": [
      "x_230.dat\n",
      "x_122.dat\n",
      "x_232.dat\n"
     ]
    },
    {
     "name": "stderr",
     "output_type": "stream",
     "text": [
      "/tmp/ipykernel_3893/427523320.py:20: RuntimeWarning: divide by zero encountered in log2\n",
      "  entropy = sum(np.multiply(P_x,np.log2(P_x)))\n",
      "/tmp/ipykernel_3893/427523320.py:20: RuntimeWarning: invalid value encountered in multiply\n",
      "  entropy = sum(np.multiply(P_x,np.log2(P_x)))\n"
     ]
    },
    {
     "name": "stdout",
     "output_type": "stream",
     "text": [
      "x_111.dat\n",
      "x_223.dat\n",
      "x_234.dat\n",
      "x_121.dat\n",
      "Skipping a segment\n",
      "x_109.dat\n",
      "Skipping a segment\n",
      "x_113.dat\n"
     ]
    },
    {
     "name": "stderr",
     "output_type": "stream",
     "text": [
      "/tmp/ipykernel_3893/427523320.py:20: RuntimeWarning: divide by zero encountered in log2\n",
      "  entropy = sum(np.multiply(P_x,np.log2(P_x)))\n",
      "/tmp/ipykernel_3893/427523320.py:20: RuntimeWarning: invalid value encountered in multiply\n",
      "  entropy = sum(np.multiply(P_x,np.log2(P_x)))\n"
     ]
    },
    {
     "name": "stdout",
     "output_type": "stream",
     "text": [
      "Skipping a segment\n",
      "x_108.dat\n",
      "x_124.dat\n",
      "x_115.dat\n",
      "x_221.dat\n",
      "x_220.dat\n"
     ]
    },
    {
     "name": "stderr",
     "output_type": "stream",
     "text": [
      "/tmp/ipykernel_3893/427523320.py:20: RuntimeWarning: divide by zero encountered in log2\n",
      "  entropy = sum(np.multiply(P_x,np.log2(P_x)))\n",
      "/tmp/ipykernel_3893/427523320.py:20: RuntimeWarning: invalid value encountered in multiply\n",
      "  entropy = sum(np.multiply(P_x,np.log2(P_x)))\n"
     ]
    },
    {
     "name": "stdout",
     "output_type": "stream",
     "text": [
      "x_116.dat\n",
      "x_117.dat\n",
      "Skipping a segment\n",
      "x_228.dat\n",
      "x_112.dat\n",
      "Records_1\n",
      "203.dat\n",
      "Skipping a segment\n",
      "Skipping a segment\n",
      "Skipping a segment\n",
      "Skipping a segment\n",
      "Skipping a segment\n",
      "100.dat\n"
     ]
    },
    {
     "name": "stderr",
     "output_type": "stream",
     "text": [
      "/tmp/ipykernel_3893/427523320.py:20: RuntimeWarning: divide by zero encountered in log2\n",
      "  entropy = sum(np.multiply(P_x,np.log2(P_x)))\n",
      "/tmp/ipykernel_3893/427523320.py:20: RuntimeWarning: invalid value encountered in multiply\n",
      "  entropy = sum(np.multiply(P_x,np.log2(P_x)))\n"
     ]
    },
    {
     "name": "stdout",
     "output_type": "stream",
     "text": [
      "118.dat\n"
     ]
    },
    {
     "name": "stderr",
     "output_type": "stream",
     "text": [
      "/tmp/ipykernel_3893/427523320.py:20: RuntimeWarning: divide by zero encountered in log2\n",
      "  entropy = sum(np.multiply(P_x,np.log2(P_x)))\n",
      "/tmp/ipykernel_3893/427523320.py:20: RuntimeWarning: invalid value encountered in multiply\n",
      "  entropy = sum(np.multiply(P_x,np.log2(P_x)))\n"
     ]
    },
    {
     "name": "stdout",
     "output_type": "stream",
     "text": [
      "223.dat\n",
      "200.dat\n",
      "202.dat\n",
      "112.dat\n",
      "212.dat\n"
     ]
    },
    {
     "name": "stderr",
     "output_type": "stream",
     "text": [
      "/tmp/ipykernel_3893/427523320.py:20: RuntimeWarning: divide by zero encountered in log2\n",
      "  entropy = sum(np.multiply(P_x,np.log2(P_x)))\n",
      "/tmp/ipykernel_3893/427523320.py:20: RuntimeWarning: invalid value encountered in multiply\n",
      "  entropy = sum(np.multiply(P_x,np.log2(P_x)))\n"
     ]
    },
    {
     "name": "stdout",
     "output_type": "stream",
     "text": [
      "124.dat\n",
      "208.dat\n"
     ]
    },
    {
     "name": "stderr",
     "output_type": "stream",
     "text": [
      "/tmp/ipykernel_3893/427523320.py:20: RuntimeWarning: divide by zero encountered in log2\n",
      "  entropy = sum(np.multiply(P_x,np.log2(P_x)))\n",
      "/tmp/ipykernel_3893/427523320.py:20: RuntimeWarning: invalid value encountered in multiply\n",
      "  entropy = sum(np.multiply(P_x,np.log2(P_x)))\n"
     ]
    },
    {
     "name": "stdout",
     "output_type": "stream",
     "text": [
      "207.dat\n",
      "Skipping a segment\n",
      "Skipping a segment\n",
      "Skipping a segment\n",
      "233.dat\n",
      "103.dat\n"
     ]
    },
    {
     "name": "stderr",
     "output_type": "stream",
     "text": [
      "/tmp/ipykernel_3893/427523320.py:20: RuntimeWarning: divide by zero encountered in log2\n",
      "  entropy = sum(np.multiply(P_x,np.log2(P_x)))\n",
      "/tmp/ipykernel_3893/427523320.py:20: RuntimeWarning: invalid value encountered in multiply\n",
      "  entropy = sum(np.multiply(P_x,np.log2(P_x)))\n"
     ]
    },
    {
     "name": "stdout",
     "output_type": "stream",
     "text": [
      "215.dat\n",
      "228.dat\n",
      "219.dat\n",
      "121.dat\n",
      "209.dat\n"
     ]
    },
    {
     "name": "stderr",
     "output_type": "stream",
     "text": [
      "/tmp/ipykernel_3893/427523320.py:20: RuntimeWarning: divide by zero encountered in log2\n",
      "  entropy = sum(np.multiply(P_x,np.log2(P_x)))\n",
      "/tmp/ipykernel_3893/427523320.py:20: RuntimeWarning: invalid value encountered in multiply\n",
      "  entropy = sum(np.multiply(P_x,np.log2(P_x)))\n"
     ]
    },
    {
     "name": "stdout",
     "output_type": "stream",
     "text": [
      "116.dat\n",
      "104.dat\n"
     ]
    },
    {
     "name": "stderr",
     "output_type": "stream",
     "text": [
      "/tmp/ipykernel_3893/427523320.py:20: RuntimeWarning: divide by zero encountered in log2\n",
      "  entropy = sum(np.multiply(P_x,np.log2(P_x)))\n",
      "/tmp/ipykernel_3893/427523320.py:20: RuntimeWarning: invalid value encountered in multiply\n",
      "  entropy = sum(np.multiply(P_x,np.log2(P_x)))\n"
     ]
    },
    {
     "name": "stdout",
     "output_type": "stream",
     "text": [
      "119.dat\n",
      "115.dat\n",
      "234.dat\n",
      "222.dat\n"
     ]
    },
    {
     "name": "stderr",
     "output_type": "stream",
     "text": [
      "/tmp/ipykernel_3893/427523320.py:20: RuntimeWarning: divide by zero encountered in log2\n",
      "  entropy = sum(np.multiply(P_x,np.log2(P_x)))\n",
      "/tmp/ipykernel_3893/427523320.py:20: RuntimeWarning: invalid value encountered in multiply\n",
      "  entropy = sum(np.multiply(P_x,np.log2(P_x)))\n"
     ]
    },
    {
     "name": "stdout",
     "output_type": "stream",
     "text": [
      "111.dat\n",
      "105.dat\n",
      "106.dat\n",
      "213.dat\n",
      "Skipping a segment\n",
      "214.dat\n",
      "117.dat\n",
      "205.dat\n"
     ]
    },
    {
     "name": "stderr",
     "output_type": "stream",
     "text": [
      "/tmp/ipykernel_3893/427523320.py:20: RuntimeWarning: divide by zero encountered in log2\n",
      "  entropy = sum(np.multiply(P_x,np.log2(P_x)))\n",
      "/tmp/ipykernel_3893/427523320.py:20: RuntimeWarning: invalid value encountered in multiply\n",
      "  entropy = sum(np.multiply(P_x,np.log2(P_x)))\n"
     ]
    },
    {
     "name": "stdout",
     "output_type": "stream",
     "text": [
      "107.dat\n",
      "108.dat\n",
      "Skipping a segment\n",
      "101.dat\n"
     ]
    },
    {
     "name": "stderr",
     "output_type": "stream",
     "text": [
      "/tmp/ipykernel_3893/427523320.py:20: RuntimeWarning: divide by zero encountered in log2\n",
      "  entropy = sum(np.multiply(P_x,np.log2(P_x)))\n",
      "/tmp/ipykernel_3893/427523320.py:20: RuntimeWarning: invalid value encountered in multiply\n",
      "  entropy = sum(np.multiply(P_x,np.log2(P_x)))\n"
     ]
    },
    {
     "name": "stdout",
     "output_type": "stream",
     "text": [
      "210.dat\n",
      "Skipping a segment\n",
      "201.dat\n",
      "122.dat\n",
      "114.dat\n",
      "230.dat\n",
      "217.dat\n",
      "102.dat\n",
      "221.dat\n"
     ]
    },
    {
     "name": "stderr",
     "output_type": "stream",
     "text": [
      "/tmp/ipykernel_3893/427523320.py:20: RuntimeWarning: divide by zero encountered in log2\n",
      "  entropy = sum(np.multiply(P_x,np.log2(P_x)))\n",
      "/tmp/ipykernel_3893/427523320.py:20: RuntimeWarning: invalid value encountered in multiply\n",
      "  entropy = sum(np.multiply(P_x,np.log2(P_x)))\n"
     ]
    },
    {
     "name": "stdout",
     "output_type": "stream",
     "text": [
      "113.dat\n"
     ]
    },
    {
     "name": "stderr",
     "output_type": "stream",
     "text": [
      "/tmp/ipykernel_3893/427523320.py:20: RuntimeWarning: divide by zero encountered in log2\n",
      "  entropy = sum(np.multiply(P_x,np.log2(P_x)))\n",
      "/tmp/ipykernel_3893/427523320.py:20: RuntimeWarning: invalid value encountered in multiply\n",
      "  entropy = sum(np.multiply(P_x,np.log2(P_x)))\n"
     ]
    },
    {
     "name": "stdout",
     "output_type": "stream",
     "text": [
      "220.dat\n"
     ]
    },
    {
     "name": "stderr",
     "output_type": "stream",
     "text": [
      "/tmp/ipykernel_3893/427523320.py:20: RuntimeWarning: divide by zero encountered in log2\n",
      "  entropy = sum(np.multiply(P_x,np.log2(P_x)))\n",
      "/tmp/ipykernel_3893/427523320.py:20: RuntimeWarning: invalid value encountered in multiply\n",
      "  entropy = sum(np.multiply(P_x,np.log2(P_x)))\n"
     ]
    },
    {
     "name": "stdout",
     "output_type": "stream",
     "text": [
      "123.dat\n",
      "231.dat\n"
     ]
    },
    {
     "name": "stderr",
     "output_type": "stream",
     "text": [
      "/tmp/ipykernel_3893/427523320.py:20: RuntimeWarning: divide by zero encountered in log2\n",
      "  entropy = sum(np.multiply(P_x,np.log2(P_x)))\n",
      "/tmp/ipykernel_3893/427523320.py:20: RuntimeWarning: invalid value encountered in multiply\n",
      "  entropy = sum(np.multiply(P_x,np.log2(P_x)))\n"
     ]
    },
    {
     "name": "stdout",
     "output_type": "stream",
     "text": [
      "109.dat\n",
      "232.dat\n"
     ]
    },
    {
     "name": "stderr",
     "output_type": "stream",
     "text": [
      "/tmp/ipykernel_3893/427523320.py:20: RuntimeWarning: divide by zero encountered in log2\n",
      "  entropy = sum(np.multiply(P_x,np.log2(P_x)))\n",
      "/tmp/ipykernel_3893/427523320.py:20: RuntimeWarning: invalid value encountered in multiply\n",
      "  entropy = sum(np.multiply(P_x,np.log2(P_x)))\n"
     ]
    }
   ],
   "source": [
    "os.chdir(dir)\n",
    "os.chdir(dir + '/DATASET/MIT-BIH')\n",
    "IDs = os.listdir()\n",
    "print(IDs)\n",
    "\n",
    "# Channel number\n",
    "N = 0\n",
    "\n",
    "f = open(dir + '/Features' +'/'+ f\"Feature_MIT_BIH_Channel_{N}.csv\", \"a\")\n",
    "f.write(\"ID,CC_1,CC_2,CC_3,CC_4,CC_5,CC_6,CC_7,CC_8,CC_9,CC_10,CC_11,CC_12,ENTROPY,ZCR,TARGET\\n\")\n",
    "\n",
    "for ID in IDs:\n",
    "    print(ID)\n",
    "    os.chdir(  os.getcwd()+ '/'+ ID)\n",
    "    Audio = os.listdir()\n",
    "    Audio_list = [k for k in Audio if '.dat' in k]\n",
    "\n",
    "\n",
    "\n",
    "    for A in Audio_list:\n",
    "        \n",
    "        print(A)\n",
    "        signal_array, fields = wf.rdsamp( os.getcwd() +  \"/\" + A.replace(\".dat\", \"\"))\n",
    "        sig = signal_array[:,N]\n",
    "\n",
    "        # For single channel\n",
    "        sos = signal.butter(6, [2, 50], btype='bandpass', fs=fields['fs'], analog= False)\n",
    "        filtered = signal.filtfilt(sos[0], sos[1], sig)\n",
    "\n",
    "        try:\n",
    "            _, rpeaks = ECG.ecg_peaks(filtered, sampling_rate=fields['fs'])\n",
    "            _, waves_peak = ECG.ecg_delineate(filtered, rpeaks, sampling_rate=1000, method=\"peak\")\n",
    "            t_peaks_ind = waves_peak['ECG_T_Peaks']\n",
    "        except IndexError:\n",
    "            print('Skipping' + A)\n",
    "            break\n",
    "        except TypeError:\n",
    "            print('Skipping' + A)\n",
    "            break\n",
    "        except ValueError:\n",
    "            print('Skipping' + A)\n",
    "            break\n",
    "        \n",
    "\n",
    "        for n in range(len(t_peaks_ind)-1):\n",
    "\n",
    "            try:\n",
    "                segment = filtered[int(t_peaks_ind[n]):int(t_peaks_ind[n+1])]\n",
    "                CC = Feature_CC(segment)\n",
    "                Entropy = Feature_Entropy(segment) \n",
    "                ZCR = Feature_ZCR(segment)\n",
    "\n",
    "                feature_string = ID + '_' + A.replace('.dat','') +'_' + str(n) + ConvertArray2String(CC) + ',' + str(Entropy) + ',' +  str(ZCR) + ',' + A.replace('.dat','').replace('x_','') + '\\n'\n",
    "                f.write(feature_string)\n",
    "            except ValueError:\n",
    "                print('Skipping a segment')\n",
    "\n",
    "\n",
    "    os.chdir(dir + '/DATASET/MIT-BIH')\n",
    "\n",
    "f.close()"
   ]
  },
  {
   "cell_type": "code",
   "execution_count": 5,
   "metadata": {},
   "outputs": [
    {
     "name": "stdout",
     "output_type": "stream",
     "text": [
      "['Records_2', 'Records_1']\n",
      "Records_2\n",
      "x_123.dat\n",
      "x_222.dat\n",
      "x_233.dat\n",
      "x_114.dat\n",
      "x_231.dat\n",
      "x_230.dat\n",
      "x_122.dat\n",
      "x_232.dat\n",
      "Skipping a segment\n",
      "Skipping a segment\n",
      "Skipping a segment\n",
      "Skipping a segment\n",
      "Skipping a segment\n",
      "Skipping a segment\n",
      "Skipping a segment\n",
      "Skipping a segment\n",
      "Skipping a segment\n",
      "Skipping a segment\n",
      "Skipping a segment\n",
      "Skipping a segment\n",
      "Skipping a segment\n",
      "Skipping a segment\n",
      "Skipping a segment\n",
      "Skipping a segment\n",
      "Skipping a segment\n",
      "Skipping a segment\n",
      "Skipping a segment\n",
      "Skipping a segment\n",
      "Skipping a segment\n",
      "Skipping a segment\n",
      "x_111.dat\n",
      "Skipping a segment\n",
      "x_223.dat\n",
      "x_234.dat\n",
      "x_121.dat\n",
      "Skipping a segment\n",
      "x_109.dat\n",
      "x_113.dat\n",
      "x_108.dat\n",
      "Skipping a segment\n",
      "Skipping a segment\n",
      "Skipping a segment\n",
      "Skipping a segment\n",
      "Skipping a segment\n",
      "x_124.dat\n",
      "x_115.dat\n",
      "x_221.dat\n",
      "x_220.dat\n",
      "x_116.dat\n",
      "x_117.dat\n",
      "x_228.dat\n",
      "x_112.dat\n",
      "Records_1\n",
      "203.dat\n",
      "Skipping a segment\n",
      "Skipping a segment\n",
      "Skipping a segment\n",
      "Skipping a segment\n",
      "100.dat\n"
     ]
    },
    {
     "name": "stderr",
     "output_type": "stream",
     "text": [
      "/tmp/ipykernel_3893/427523320.py:20: RuntimeWarning: divide by zero encountered in log2\n",
      "  entropy = sum(np.multiply(P_x,np.log2(P_x)))\n",
      "/tmp/ipykernel_3893/427523320.py:20: RuntimeWarning: invalid value encountered in multiply\n",
      "  entropy = sum(np.multiply(P_x,np.log2(P_x)))\n"
     ]
    },
    {
     "name": "stdout",
     "output_type": "stream",
     "text": [
      "118.dat\n",
      "223.dat\n",
      "Skipping a segment\n",
      "Skipping a segment\n",
      "Skipping a segment\n",
      "Skipping a segment\n",
      "Skipping a segment\n",
      "Skipping a segment\n",
      "200.dat\n"
     ]
    },
    {
     "name": "stderr",
     "output_type": "stream",
     "text": [
      "/tmp/ipykernel_3893/427523320.py:20: RuntimeWarning: divide by zero encountered in log2\n",
      "  entropy = sum(np.multiply(P_x,np.log2(P_x)))\n",
      "/tmp/ipykernel_3893/427523320.py:20: RuntimeWarning: invalid value encountered in multiply\n",
      "  entropy = sum(np.multiply(P_x,np.log2(P_x)))\n"
     ]
    },
    {
     "name": "stdout",
     "output_type": "stream",
     "text": [
      "Skipping a segment\n",
      "Skipping a segment\n",
      "Skipping a segment\n",
      "Skipping a segment\n",
      "Skipping a segment\n",
      "Skipping a segment\n",
      "Skipping a segment\n",
      "Skipping a segment\n",
      "Skipping a segment\n",
      "Skipping a segment\n",
      "Skipping a segment\n",
      "Skipping a segment\n",
      "Skipping a segment\n",
      "Skipping a segment\n",
      "Skipping a segment\n",
      "202.dat\n",
      "Skipping a segment\n",
      "Skipping a segment\n",
      "Skipping a segment\n",
      "Skipping a segment\n",
      "Skipping a segment\n",
      "Skipping a segment\n",
      "Skipping a segment\n",
      "Skipping a segment\n",
      "Skipping a segment\n",
      "Skipping a segment\n",
      "Skipping a segment\n",
      "Skipping a segment\n",
      "Skipping a segment\n",
      "Skipping a segment\n",
      "Skipping a segment\n",
      "Skipping a segment\n",
      "Skipping a segment\n",
      "Skipping a segment\n",
      "Skipping a segment\n",
      "Skipping a segment\n",
      "Skipping a segment\n",
      "Skipping a segment\n",
      "Skipping a segment\n",
      "Skipping a segment\n",
      "Skipping a segment\n",
      "Skipping a segment\n",
      "Skipping a segment\n",
      "Skipping a segment\n"
     ]
    },
    {
     "name": "stderr",
     "output_type": "stream",
     "text": [
      "/tmp/ipykernel_3893/427523320.py:20: RuntimeWarning: divide by zero encountered in log2\n",
      "  entropy = sum(np.multiply(P_x,np.log2(P_x)))\n",
      "/tmp/ipykernel_3893/427523320.py:20: RuntimeWarning: invalid value encountered in multiply\n",
      "  entropy = sum(np.multiply(P_x,np.log2(P_x)))\n"
     ]
    },
    {
     "name": "stdout",
     "output_type": "stream",
     "text": [
      "Skipping a segment\n",
      "Skipping a segment\n",
      "Skipping a segment\n",
      "Skipping a segment\n",
      "Skipping a segment\n",
      "Skipping a segment\n",
      "Skipping a segment\n",
      "Skipping a segment\n",
      "Skipping a segment\n",
      "112.dat\n",
      "212.dat\n"
     ]
    },
    {
     "name": "stderr",
     "output_type": "stream",
     "text": [
      "/tmp/ipykernel_3893/427523320.py:20: RuntimeWarning: divide by zero encountered in log2\n",
      "  entropy = sum(np.multiply(P_x,np.log2(P_x)))\n",
      "/tmp/ipykernel_3893/427523320.py:20: RuntimeWarning: invalid value encountered in multiply\n",
      "  entropy = sum(np.multiply(P_x,np.log2(P_x)))\n"
     ]
    },
    {
     "name": "stdout",
     "output_type": "stream",
     "text": [
      "124.dat\n",
      "208.dat\n",
      "Skipping a segment\n",
      "Skipping a segment\n",
      "Skipping a segment\n",
      "Skipping a segment\n",
      "Skipping a segment\n",
      "Skipping a segment\n",
      "Skipping a segment\n",
      "Skipping a segment\n",
      "Skipping a segment\n",
      "Skipping a segment\n",
      "Skipping a segment\n",
      "Skipping a segment\n",
      "Skipping a segment\n",
      "Skipping a segment\n",
      "Skipping a segment\n",
      "Skipping a segment\n",
      "Skipping a segment\n",
      "Skipping a segment\n",
      "Skipping a segment\n",
      "Skipping a segment\n",
      "Skipping a segment\n",
      "Skipping a segment\n",
      "Skipping a segment\n",
      "Skipping a segment\n",
      "Skipping a segment\n",
      "Skipping a segment\n",
      "Skipping a segment\n",
      "Skipping a segment\n",
      "Skipping a segment\n",
      "Skipping a segment\n",
      "Skipping a segment\n",
      "Skipping a segment\n",
      "Skipping a segment\n",
      "Skipping a segment\n",
      "Skipping a segment\n",
      "Skipping a segment\n",
      "Skipping a segment\n",
      "Skipping a segment\n",
      "Skipping a segment\n",
      "Skipping a segment\n",
      "Skipping a segment\n",
      "Skipping a segment\n",
      "Skipping a segment\n",
      "Skipping a segment\n",
      "Skipping a segment\n",
      "Skipping a segment\n",
      "Skipping a segment\n",
      "Skipping a segment\n",
      "Skipping a segment\n",
      "Skipping a segment\n",
      "Skipping a segment\n",
      "Skipping a segment\n",
      "Skipping a segment\n",
      "Skipping a segment\n",
      "Skipping a segment\n",
      "207.dat\n",
      "Skipping a segment\n",
      "233.dat\n",
      "103.dat\n",
      "Skipping a segment\n",
      "Skipping a segment\n",
      "Skipping a segment\n",
      "Skipping a segment\n",
      "Skipping a segment\n",
      "Skipping a segment\n",
      "Skipping a segment\n",
      "Skipping a segment\n",
      "Skipping a segment\n",
      "215.dat\n"
     ]
    },
    {
     "name": "stderr",
     "output_type": "stream",
     "text": [
      "/tmp/ipykernel_3893/427523320.py:20: RuntimeWarning: divide by zero encountered in log2\n",
      "  entropy = sum(np.multiply(P_x,np.log2(P_x)))\n",
      "/tmp/ipykernel_3893/427523320.py:20: RuntimeWarning: invalid value encountered in multiply\n",
      "  entropy = sum(np.multiply(P_x,np.log2(P_x)))\n"
     ]
    },
    {
     "name": "stdout",
     "output_type": "stream",
     "text": [
      "Skipping a segment\n",
      "228.dat\n",
      "Skipping a segment\n",
      "219.dat\n"
     ]
    },
    {
     "name": "stderr",
     "output_type": "stream",
     "text": [
      "/tmp/ipykernel_3893/427523320.py:20: RuntimeWarning: divide by zero encountered in log2\n",
      "  entropy = sum(np.multiply(P_x,np.log2(P_x)))\n",
      "/tmp/ipykernel_3893/427523320.py:20: RuntimeWarning: invalid value encountered in multiply\n",
      "  entropy = sum(np.multiply(P_x,np.log2(P_x)))\n"
     ]
    },
    {
     "name": "stdout",
     "output_type": "stream",
     "text": [
      "121.dat\n",
      "Skipping a segment\n",
      "Skipping a segment\n",
      "Skipping a segment\n",
      "Skipping a segment\n",
      "209.dat\n",
      "Skipping a segment\n",
      "Skipping a segment\n",
      "Skipping a segment\n",
      "Skipping a segment\n"
     ]
    },
    {
     "name": "stderr",
     "output_type": "stream",
     "text": [
      "/tmp/ipykernel_3893/427523320.py:20: RuntimeWarning: divide by zero encountered in log2\n",
      "  entropy = sum(np.multiply(P_x,np.log2(P_x)))\n",
      "/tmp/ipykernel_3893/427523320.py:20: RuntimeWarning: invalid value encountered in multiply\n",
      "  entropy = sum(np.multiply(P_x,np.log2(P_x)))\n"
     ]
    },
    {
     "name": "stdout",
     "output_type": "stream",
     "text": [
      "Skipping a segment\n",
      "Skipping a segment\n",
      "Skipping a segment\n",
      "Skipping a segment\n",
      "116.dat\n",
      "104.dat\n"
     ]
    },
    {
     "name": "stderr",
     "output_type": "stream",
     "text": [
      "/tmp/ipykernel_3893/427523320.py:20: RuntimeWarning: divide by zero encountered in log2\n",
      "  entropy = sum(np.multiply(P_x,np.log2(P_x)))\n",
      "/tmp/ipykernel_3893/427523320.py:20: RuntimeWarning: invalid value encountered in multiply\n",
      "  entropy = sum(np.multiply(P_x,np.log2(P_x)))\n"
     ]
    },
    {
     "name": "stdout",
     "output_type": "stream",
     "text": [
      "119.dat\n",
      "115.dat\n",
      "234.dat\n"
     ]
    },
    {
     "name": "stderr",
     "output_type": "stream",
     "text": [
      "/tmp/ipykernel_3893/427523320.py:20: RuntimeWarning: divide by zero encountered in log2\n",
      "  entropy = sum(np.multiply(P_x,np.log2(P_x)))\n",
      "/tmp/ipykernel_3893/427523320.py:20: RuntimeWarning: invalid value encountered in multiply\n",
      "  entropy = sum(np.multiply(P_x,np.log2(P_x)))\n"
     ]
    },
    {
     "name": "stdout",
     "output_type": "stream",
     "text": [
      "222.dat\n",
      "Skipping a segment\n",
      "Skipping a segment\n",
      "Skipping a segment\n",
      "Skipping a segment\n",
      "111.dat\n",
      "105.dat\n",
      "Skipping a segment\n",
      "Skipping a segment\n",
      "Skipping a segment\n",
      "Skipping a segment\n",
      "106.dat\n",
      "Skipping a segment\n",
      "Skipping a segment\n",
      "Skipping a segment\n"
     ]
    },
    {
     "name": "stderr",
     "output_type": "stream",
     "text": [
      "/tmp/ipykernel_3893/427523320.py:20: RuntimeWarning: divide by zero encountered in log2\n",
      "  entropy = sum(np.multiply(P_x,np.log2(P_x)))\n",
      "/tmp/ipykernel_3893/427523320.py:20: RuntimeWarning: invalid value encountered in multiply\n",
      "  entropy = sum(np.multiply(P_x,np.log2(P_x)))\n"
     ]
    },
    {
     "name": "stdout",
     "output_type": "stream",
     "text": [
      "Skipping a segment\n",
      "Skipping a segment\n",
      "Skipping a segment\n",
      "Skipping a segment\n",
      "213.dat\n",
      "214.dat\n",
      "Skipping a segment\n",
      "Skipping a segment\n",
      "117.dat\n",
      "205.dat\n",
      "107.dat\n",
      "Skipping a segment\n",
      "108.dat\n",
      "Skipping a segment\n",
      "Skipping a segment\n",
      "Skipping a segment\n",
      "Skipping a segment\n",
      "Skipping a segment\n",
      "Skipping a segment\n",
      "Skipping a segment\n",
      "Skipping a segment\n",
      "Skipping a segment\n",
      "Skipping a segment\n",
      "Skipping a segment\n",
      "Skipping a segment\n",
      "Skipping a segment\n",
      "Skipping a segment\n",
      "101.dat\n"
     ]
    },
    {
     "name": "stderr",
     "output_type": "stream",
     "text": [
      "/tmp/ipykernel_3893/427523320.py:20: RuntimeWarning: divide by zero encountered in log2\n",
      "  entropy = sum(np.multiply(P_x,np.log2(P_x)))\n",
      "/tmp/ipykernel_3893/427523320.py:20: RuntimeWarning: invalid value encountered in multiply\n",
      "  entropy = sum(np.multiply(P_x,np.log2(P_x)))\n"
     ]
    },
    {
     "name": "stdout",
     "output_type": "stream",
     "text": [
      "Skipping a segment\n",
      "Skipping a segment\n",
      "210.dat\n",
      "201.dat\n",
      "Skipping a segment\n",
      "Skipping a segment\n",
      "Skipping a segment\n",
      "Skipping a segment\n",
      "Skipping a segment\n",
      "Skipping a segment\n",
      "Skipping a segment\n",
      "Skipping a segment\n",
      "Skipping a segment\n",
      "Skipping a segment\n",
      "Skipping a segment\n",
      "Skipping a segment\n",
      "Skipping a segment\n"
     ]
    },
    {
     "name": "stderr",
     "output_type": "stream",
     "text": [
      "/tmp/ipykernel_3893/427523320.py:20: RuntimeWarning: divide by zero encountered in log2\n",
      "  entropy = sum(np.multiply(P_x,np.log2(P_x)))\n",
      "/tmp/ipykernel_3893/427523320.py:20: RuntimeWarning: invalid value encountered in multiply\n",
      "  entropy = sum(np.multiply(P_x,np.log2(P_x)))\n"
     ]
    },
    {
     "name": "stdout",
     "output_type": "stream",
     "text": [
      "Skipping a segment\n",
      "Skipping a segment\n",
      "Skipping a segment\n",
      "Skipping a segment\n",
      "Skipping a segment\n",
      "Skipping a segment\n",
      "Skipping a segment\n",
      "Skipping a segment\n",
      "Skipping a segment\n",
      "Skipping a segment\n",
      "Skipping a segment\n",
      "122.dat\n",
      "114.dat\n"
     ]
    },
    {
     "name": "stderr",
     "output_type": "stream",
     "text": [
      "/tmp/ipykernel_3893/427523320.py:20: RuntimeWarning: divide by zero encountered in log2\n",
      "  entropy = sum(np.multiply(P_x,np.log2(P_x)))\n",
      "/tmp/ipykernel_3893/427523320.py:20: RuntimeWarning: invalid value encountered in multiply\n",
      "  entropy = sum(np.multiply(P_x,np.log2(P_x)))\n"
     ]
    },
    {
     "name": "stdout",
     "output_type": "stream",
     "text": [
      "230.dat\n",
      "217.dat\n",
      "Skipping a segment\n",
      "102.dat\n",
      "221.dat\n",
      "Skipping a segment\n",
      "Skipping a segment\n",
      "113.dat\n",
      "220.dat\n",
      "Skipping a segment\n",
      "123.dat\n",
      "231.dat\n",
      "109.dat\n",
      "232.dat\n",
      "Skipping a segment\n",
      "Skipping a segment\n",
      "Skipping a segment\n",
      "Skipping a segment\n",
      "Skipping a segment\n",
      "Skipping a segment\n",
      "Skipping a segment\n",
      "Skipping a segment\n",
      "Skipping a segment\n",
      "Skipping a segment\n",
      "Skipping a segment\n",
      "Skipping a segment\n",
      "Skipping a segment\n",
      "Skipping a segment\n",
      "Skipping a segment\n",
      "Skipping a segment\n",
      "Skipping a segment\n",
      "Skipping a segment\n",
      "Skipping a segment\n",
      "Skipping a segment\n",
      "Skipping a segment\n",
      "Skipping a segment\n",
      "Skipping a segment\n",
      "Skipping a segment\n",
      "Skipping a segment\n",
      "Skipping a segment\n",
      "Skipping a segment\n",
      "Skipping a segment\n",
      "Skipping a segment\n",
      "Skipping a segment\n",
      "Skipping a segment\n",
      "Skipping a segment\n",
      "Skipping a segment\n",
      "Skipping a segment\n",
      "Skipping a segment\n",
      "Skipping a segment\n",
      "Skipping a segment\n",
      "Skipping a segment\n",
      "Skipping a segment\n",
      "Skipping a segment\n",
      "Skipping a segment\n"
     ]
    }
   ],
   "source": [
    "os.chdir(dir)\n",
    "os.chdir(dir + '/DATASET/MIT-BIH')\n",
    "IDs = os.listdir()\n",
    "print(IDs)\n",
    "\n",
    "# Channel number\n",
    "N = 1\n",
    "\n",
    "f = open(dir + '/Features' +'/'+ f\"Feature_MIT_BIH_Channel_{N}.csv\", \"a\")\n",
    "f.write(\"ID,CC_1,CC_2,CC_3,CC_4,CC_5,CC_6,CC_7,CC_8,CC_9,CC_10,CC_11,CC_12,ENTROPY,ZCR,TARGET\\n\")\n",
    "\n",
    "for ID in IDs:\n",
    "    print(ID)\n",
    "    os.chdir(  os.getcwd()+ '/'+ ID)\n",
    "    Audio = os.listdir()\n",
    "    Audio_list = [k for k in Audio if '.dat' in k]\n",
    "\n",
    "\n",
    "\n",
    "    for A in Audio_list:\n",
    "        \n",
    "        print(A)\n",
    "        signal_array, fields = wf.rdsamp( os.getcwd() +  \"/\" + A.replace(\".dat\", \"\"))\n",
    "        sig = signal_array[:,N]\n",
    "\n",
    "        # For single channel\n",
    "        sos = signal.butter(6, [2, 50], btype='bandpass', fs=fields['fs'], analog= False)\n",
    "        filtered = signal.filtfilt(sos[0], sos[1], sig)\n",
    "\n",
    "        try:\n",
    "            _, rpeaks = ECG.ecg_peaks(filtered, sampling_rate=fields['fs'])\n",
    "            _, waves_peak = ECG.ecg_delineate(filtered, rpeaks, sampling_rate=1000, method=\"peak\")\n",
    "            t_peaks_ind = waves_peak['ECG_T_Peaks']\n",
    "        except IndexError:\n",
    "            print('Skipping' + A)\n",
    "            break\n",
    "        except TypeError:\n",
    "            print('Skipping' + A)\n",
    "            break\n",
    "        except ValueError:\n",
    "            print('Skipping' + A)\n",
    "            break\n",
    "        \n",
    "\n",
    "        for n in range(len(t_peaks_ind)-1):\n",
    "\n",
    "            try:\n",
    "                segment = filtered[int(t_peaks_ind[n]):int(t_peaks_ind[n+1])]\n",
    "                CC = Feature_CC(segment)\n",
    "                Entropy = Feature_Entropy(segment) \n",
    "                ZCR = Feature_ZCR(segment)\n",
    "\n",
    "                feature_string = ID + '_' + A.replace('.dat','') +'_' + str(n) + ConvertArray2String(CC) + ',' + str(Entropy) + ',' +  str(ZCR) + ',' + A.replace('.dat','').replace('x_','') + '\\n'\n",
    "                f.write(feature_string)\n",
    "            except ValueError:\n",
    "                print('Skipping a segment')\n",
    "\n",
    "    os.chdir(dir + '/DATASET/MIT-BIH')\n",
    "\n",
    "f.close()"
   ]
  },
  {
   "cell_type": "code",
   "execution_count": 6,
   "metadata": {},
   "outputs": [
    {
     "name": "stdout",
     "output_type": "stream",
     "text": [
      "Error\n"
     ]
    }
   ],
   "source": [
    "for n in range(0,10):\n",
    "    try:\n",
    "        Print\n",
    "    except NameError:\n",
    "        print(\"Error\")\n",
    "        break\n",
    "\n",
    "    print(n)"
   ]
  }
 ],
 "metadata": {
  "kernelspec": {
   "display_name": "sip-person_identification",
   "language": "python",
   "name": "python3"
  },
  "language_info": {
   "codemirror_mode": {
    "name": "ipython",
    "version": 3
   },
   "file_extension": ".py",
   "mimetype": "text/x-python",
   "name": "python",
   "nbconvert_exporter": "python",
   "pygments_lexer": "ipython3",
   "version": "3.8.15 | packaged by conda-forge | (default, Nov 22 2022, 08:49:35) \n[GCC 10.4.0]"
  },
  "orig_nbformat": 4,
  "vscode": {
   "interpreter": {
    "hash": "0b6819903465b6f80edaece2a807aed469d8f41936c3b6c7b4bd5b116e5c55fc"
   }
  }
 },
 "nbformat": 4,
 "nbformat_minor": 2
}
